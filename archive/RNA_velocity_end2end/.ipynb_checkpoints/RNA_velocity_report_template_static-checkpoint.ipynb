{
 "cells": [
  {
   "cell_type": "markdown",
   "id": "a72b4b1c",
   "metadata": {},
   "source": [
    "# Preparation"
   ]
  },
  {
   "cell_type": "markdown",
   "id": "42c0bb7b",
   "metadata": {},
   "source": [
    "We convert the `Seurat` object to `AnnData` object"
   ]
  },
  {
   "cell_type": "markdown",
   "id": "632d2231",
   "metadata": {},
   "source": [
    "## Import libraries and packages"
   ]
  },
  {
   "cell_type": "code",
   "execution_count": 1,
   "id": "b3603bc7",
   "metadata": {},
   "outputs": [
    {
     "ename": "ModuleNotFoundError",
     "evalue": "No module named 'scanpy'",
     "output_type": "error",
     "traceback": [
      "\u001b[0;31m---------------------------------------------------------------------------\u001b[0m",
      "\u001b[0;31mModuleNotFoundError\u001b[0m                       Traceback (most recent call last)",
      "Cell \u001b[0;32mIn[1], line 1\u001b[0m\n\u001b[0;32m----> 1\u001b[0m \u001b[38;5;28;01mimport\u001b[39;00m \u001b[38;5;21;01mscanpy\u001b[39;00m \u001b[38;5;28;01mas\u001b[39;00m \u001b[38;5;21;01msc\u001b[39;00m\n\u001b[1;32m      2\u001b[0m \u001b[38;5;28;01mimport\u001b[39;00m \u001b[38;5;21;01mnumpy\u001b[39;00m \u001b[38;5;28;01mas\u001b[39;00m \u001b[38;5;21;01mnp\u001b[39;00m\n\u001b[1;32m      3\u001b[0m \u001b[38;5;28;01mimport\u001b[39;00m \u001b[38;5;21;01mos\u001b[39;00m\n",
      "\u001b[0;31mModuleNotFoundError\u001b[0m: No module named 'scanpy'"
     ]
    }
   ],
   "source": [
    "import scanpy as sc\n",
    "import numpy as np\n",
    "import os\n",
    "import anndata2ri\n",
    "import pathlib\n",
    "import scvelo as scv\n",
    "from scipy import io\n",
    "import anndata#\n",
    "import pandas as pd\n",
    "from tqdm import tqdm\n",
    "import argparse\n",
    "import re\n",
    "import sys\n",
    "\n",
    "sc.settings.verbosity = 3\n",
    "# sc.logging.print_versions()\n",
    "\n",
    "import warnings\n",
    "warnings.filterwarnings(\"ignore\")"
   ]
  },
  {
   "cell_type": "markdown",
   "id": "bb5329e8",
   "metadata": {},
   "source": [
    "## Convert Seurat object to AnnData object"
   ]
  },
  {
   "cell_type": "code",
   "execution_count": null,
   "id": "533771a2-8b46-495a-aed1-498c1dcb7b2a",
   "metadata": {},
   "outputs": [],
   "source": [
    "##### Configurations\n",
    "outdir = \"/home/hieunguyen/CRC1382/outdir\"\n",
    "PROJECT = \"20231018_SAlBounny\"\n",
    "cluster_resolution = 0.5\n",
    "umap_assay = \"INTE_UMAP\"\n",
    "\n",
    "path_to_main_output = os.path.join(outdir, PROJECT, \"data_analysis\")\n",
    "path_to_seurat2anndata = os.path.join(path_to_main_output, \"seurat2anndata\")\n",
    "object_name = \"{}_03_output\".format(PROJECT)\n"
   ]
  },
  {
   "cell_type": "code",
   "execution_count": null,
   "id": "0b51ad21",
   "metadata": {},
   "outputs": [],
   "source": [
    "# load sparse matrix:\n",
    "X = io.mmread(os.path.join(path_to_seurat2anndata, \"counts_{}.mtx\".format(object_name)))\n",
    "\n",
    "# create anndata object\n",
    "adata = anndata.AnnData(X=X.transpose().tocsr())\n",
    "\n",
    "# load cell metadata:\n",
    "cell_meta = pd.read_csv(os.path.join(path_to_seurat2anndata, \"metadata_{}.csv\".format(object_name)))\n",
    "\n",
    "# load gene names:\n",
    "with open(os.path.join(path_to_seurat2anndata, \"gene_names_{}.csv\".format(object_name)), 'r') as f:\n",
    "    gene_names = f.read().splitlines()\n",
    "    # set anndata observations and index obs by barcodes, var by gene names\n",
    "    adata.obs = cell_meta\n",
    "    adata.obs.index = adata.obs['barcode']\n",
    "    adata.var.index = gene_names\n",
    "\n",
    "    # load dimensional reduction:\n",
    "    pca = pd.read_csv(os.path.join(path_to_seurat2anndata, \"pca_{}.csv\".format(object_name)))\n",
    "    pca.index = adata.obs.index\n",
    "\n",
    "    # set pca and umap\n",
    "    adata.obsm['X_pca'] = pca.to_numpy()\n",
    "    adata.obsm['X_umap'] = np.vstack((adata.obs['UMAP_1'].to_numpy(), adata.obs['UMAP_2'].to_numpy())).T\n",
    "\n",
    "    # save dataset as anndata format\n",
    "    adata.write(os.path.join(path_to_seurat2anndata, '{}.h5ad'.format(object_name)))\n",
    "\n",
    "    # reload dataset\n",
    "    adata = sc.read_h5ad(os.path.join(path_to_seurat2anndata, '{}.h5ad'.format(object_name)))"
   ]
  },
  {
   "cell_type": "markdown",
   "id": "4aa0d405",
   "metadata": {},
   "source": [
    "## Preprocess velocyto data"
   ]
  },
  {
   "cell_type": "code",
   "execution_count": null,
   "id": "c2f4ff40-fcf4-49fa-82ec-ff08ce8eea60",
   "metadata": {},
   "outputs": [],
   "source": [
    "path_to_loom_data = os.path.join(outdir, PROJECT, \"velocyto_output\")\n",
    "all_looms = [item for item in pathlib.Path(path_to_loom_data).glob(\"*.loom\")]\n",
    "\n",
    "velodata_dict = dict()\n",
    "for input_loom in tqdm(all_looms):\n",
    "    velodata = scv.read_loom(input_loom)\n",
    "    if \"200709\" in input_loom.name:\n",
    "        samplename = input_loom.name.replace(\"SAlBounny_200709_\", \"\").replace(\".loom\", \"\")\n",
    "    else:\n",
    "        samplename = input_loom.name.replace(\"SAlBounny_\", \"\").replace(\".loom\", \"\")\n",
    "\n",
    "    new_obs = [\"{}_{}_{}-1\".format(samplename, samplename, item.split(\":\")[1].replace(\"x\", \"\")) for item in velodata.obs.index]\n",
    "    velodata.obs.index = new_obs\n",
    "    velodata.obs[\"barcode\"] = new_obs\n",
    "    velodata.var_names_make_unique()\n",
    "    pattern = re.compile('_[A|T|G|C]*-')\n",
    "    new_obs = [samplename + pattern.search(string = item).group() + item.split(\"-\")[1]\n",
    "              for item in velodata.obs.index]\n",
    "    velodata.obs.index = new_obs\n",
    "    velodata_dict[samplename] = velodata\n",
    "    velodata.var_names_make_unique()\n"
   ]
  },
  {
   "cell_type": "code",
   "execution_count": null,
   "id": "860df0ef-24b7-4694-bd25-44a42d8ab579",
   "metadata": {},
   "outputs": [],
   "source": [
    "all_velodata = velodata_dict[list(velodata_dict.keys())[0]]\n",
    "for data in list(velodata_dict.keys())[1:]:\n",
    "    all_velodata = all_velodata.concatenate(velodata_dict[data])\n",
    "    \n",
    "new_obs = [item.split(\"-\")[0] + \"-1\" for item in all_velodata.obs.index]\n",
    "all_velodata.obs.index = new_obs\n",
    "all_velodata.var_names_make_unique()"
   ]
  },
  {
   "cell_type": "markdown",
   "id": "894122cf",
   "metadata": {},
   "source": [
    "# Main analysis"
   ]
  },
  {
   "cell_type": "markdown",
   "id": "42d8604b",
   "metadata": {},
   "source": [
    "## Preprocessing pipeline"
   ]
  },
  {
   "cell_type": "code",
   "execution_count": null,
   "id": "1fae16c7",
   "metadata": {},
   "outputs": [],
   "source": [
    "scv.utils.clean_obs_names(adata)\n",
    "scv.utils.clean_obs_names(all_velodata)\n",
    "merge_data = scv.utils.merge(adata, all_velodata)\n",
    "\n",
    "scv.pp.filter_genes(merge_data, min_shared_counts=20)\n",
    "scv.pp.normalize_per_cell(merge_data)\n",
    "scv.pp.filter_genes_dispersion(merge_data, n_top_genes=2000)\n",
    "scv.pp.log1p(merge_data)\n",
    "\n",
    "scv.pp.filter_and_normalize(merge_data, min_shared_counts=20, n_top_genes=2000)\n",
    "scv.pp.moments(merge_data, n_pcs=30, n_neighbors=30)"
   ]
  },
  {
   "cell_type": "markdown",
   "id": "a846136c",
   "metadata": {},
   "source": [
    "## RNA velocity inference"
   ]
  },
  {
   "cell_type": "markdown",
   "id": "5c41bc10",
   "metadata": {},
   "source": [
    "Perform RNA velocity inference by dynamical models"
   ]
  },
  {
   "cell_type": "code",
   "execution_count": null,
   "id": "b8f297e4",
   "metadata": {},
   "outputs": [],
   "source": [
    "# scv.tl.recover_dynamics(merge_data, n_jobs = 15)\n",
    "# scv.tl.velocity(merge_data, mode=\"dynamical\", diff_kinetics = True)\n",
    "scv.tl.velocity(merge_data)\n",
    "scv.tl.velocity_graph(merge_data)"
   ]
  },
  {
   "cell_type": "markdown",
   "id": "1d52a6ba",
   "metadata": {},
   "source": [
    "## RNA velocity projected onto UMAP"
   ]
  },
  {
   "cell_type": "markdown",
   "id": "71f9f4a6",
   "metadata": {},
   "source": [
    "### Arrows"
   ]
  },
  {
   "cell_type": "code",
   "execution_count": null,
   "id": "36b61238",
   "metadata": {},
   "outputs": [],
   "source": [
    "colors = [\"#F8766D\", \"#D89000\", \"#A3A500\", \"#39B600\", \"#00BF7D\", \"#00BFC4\", \"#00B0F6\", \"#9590FF\", \"#E76BF3\", \"#FF62BC\"]\n",
    "\n",
    "scv.pl.velocity_embedding(merge_data, dpi=120, arrow_size=2, arrow_length=10, basis = \"X_umap\",color=\"seurat_clusters\",\n",
    "                         figsize = (12, 12), fontsize=20, legend_fontsize=40, frameon=True, palette = colors)"
   ]
  },
  {
   "cell_type": "markdown",
   "id": "cfd11ddd",
   "metadata": {},
   "source": [
    "### Streamlines"
   ]
  },
  {
   "cell_type": "code",
   "execution_count": null,
   "id": "262597e5",
   "metadata": {},
   "outputs": [],
   "source": [
    "scv.pl.velocity_embedding_stream(merge_data, dpi=120, arrow_size=2, basis = \"X_umap\",color=\"seurat_clusters\",\n",
    "                         figsize = (12, 12), fontsize=20, legend_fontsize = 30, frameon=True, palette = colors, save=\"streamline_{}.svg\".format(object_name))"
   ]
  },
  {
   "cell_type": "markdown",
   "id": "8333bae3",
   "metadata": {},
   "source": [
    "# Interpretation of the RNA velocities"
   ]
  },
  {
   "cell_type": "markdown",
   "id": "79f1f90c",
   "metadata": {},
   "source": [
    "## Gene ranking\n",
    "\n"
   ]
  },
  {
   "cell_type": "markdown",
   "id": "d23ed5e8",
   "metadata": {},
   "source": [
    "We can test which genes have cluster-specific differential velocity expression, being siginificantly higher/lower compared to the remaining population. Run a differential velocity t-test and outpus a gene ranking for each cluster. Thresholds can be set (e.g. min_corr) to restrict the test on a selection of gene candidates."
   ]
  },
  {
   "cell_type": "code",
   "execution_count": null,
   "id": "19122493",
   "metadata": {},
   "outputs": [],
   "source": [
    "scv.tl.rank_velocity_genes(merge_data, groupby='seurat_clusters', min_corr=.3)\n",
    "\n",
    "df_gene_ranking = scv.DataFrame(merge_data.uns['rank_velocity_genes']['names'])"
   ]
  },
  {
   "cell_type": "markdown",
   "id": "914ac772",
   "metadata": {},
   "source": [
    "### Display top-10 genes for each group (by cell clusters)"
   ]
  },
  {
   "cell_type": "code",
   "execution_count": null,
   "id": "b6a6ae0b",
   "metadata": {},
   "outputs": [],
   "source": [
    "display(df_gene_ranking.head(10))"
   ]
  },
  {
   "cell_type": "markdown",
   "id": "3f21071c",
   "metadata": {},
   "source": [
    "## Pseudotime"
   ]
  },
  {
   "cell_type": "markdown",
   "id": "e639f0a6",
   "metadata": {},
   "source": [
    "This pseudotime was constructed by a velocity graph"
   ]
  },
  {
   "cell_type": "code",
   "execution_count": null,
   "id": "334a7dae",
   "metadata": {},
   "outputs": [],
   "source": [
    "scv.tl.velocity_pseudotime(merge_data)\n",
    "scv.pl.scatter(merge_data, color='velocity_pseudotime', cmap='gnuplot', basis = \"X_umap\",\n",
    "               figsize = (15, 15), fontsize=20, legend_fontsize = 30, frameon=True)"
   ]
  },
  {
   "cell_type": "markdown",
   "id": "042ffd9d",
   "metadata": {},
   "source": [
    "## Speed and coherence"
   ]
  },
  {
   "cell_type": "markdown",
   "id": "582fad85",
   "metadata": {},
   "source": [
    "Two more useful stats: \n",
    "\n",
    "- The speed or rate of differentiation is given by the length of the velocity vector. \n",
    "\n",
    "- The coherence of the vector field (i.e., how a velocity vector correlates with its neighboring velocities) provides a measure of confidence."
   ]
  },
  {
   "cell_type": "code",
   "execution_count": null,
   "id": "502e1fb2",
   "metadata": {},
   "outputs": [],
   "source": [
    "scv.tl.velocity_confidence(merge_data)\n",
    "keys = 'velocity_length', 'velocity_confidence'\n",
    "scv.pl.scatter(merge_data, c=keys, cmap='coolwarm', perc=[5, 95], basis = \"X_umap\", frameon=True, \n",
    "              figsize = (10, 10))"
   ]
  },
  {
   "cell_type": "code",
   "execution_count": null,
   "id": "ad4934ee",
   "metadata": {},
   "outputs": [],
   "source": [
    "df = merge_data.obs.groupby('seurat_clusters')[keys].mean().T\n",
    "df.style.background_gradient(cmap='coolwarm', axis=1)"
   ]
  }
 ],
 "metadata": {
  "kernelspec": {
   "display_name": "Python 3 (ipykernel)",
   "language": "python",
   "name": "python3"
  },
  "language_info": {
   "codemirror_mode": {
    "name": "ipython",
    "version": 3
   },
   "file_extension": ".py",
   "mimetype": "text/x-python",
   "name": "python",
   "nbconvert_exporter": "python",
   "pygments_lexer": "ipython3",
   "version": "3.10.13"
  }
 },
 "nbformat": 4,
 "nbformat_minor": 5
}
