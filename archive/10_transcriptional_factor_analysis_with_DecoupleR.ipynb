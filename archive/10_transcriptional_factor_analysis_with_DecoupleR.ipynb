{
 "cells": [
  {
   "cell_type": "code",
   "execution_count": 1,
   "id": "5c1097c8-ed4a-4dc6-ae44-b901d83a609f",
   "metadata": {},
   "outputs": [],
   "source": [
    "import scanpy as sc\n",
    "import decoupler as dc\n",
    "import pandas as pd\n",
    "import os\n",
    "import matplotlib.pyplot as plt\n",
    "# Plotting options, change to your liking\n",
    "sc.settings.set_figure_params(dpi=200, frameon=False)\n",
    "sc.set_figure_params(dpi=200)\n",
    "sc.set_figure_params(figsize=(4, 4))\n",
    "\n",
    "sc.settings.verbosity = 3\n",
    "# sc.logging.print_versions()\n",
    "\n",
    "import warnings\n",
    "warnings.filterwarnings(\"ignore\")\n",
    "\n",
    "from tqdm import tqdm\n",
    "#####---------------------------------------------------------------------------------------------------------#####\n",
    "##### CONFIGURATIONS\n",
    "outdir = \"/media/hieunguyen/CRC1382H/CRC1382/outdir\"\n",
    "PROJECT = \"20231018_SAlBounny.filter_contaminated_cells.clusterRes_0.5\"\n",
    "path_to_main_output = os.path.join(outdir, \"20231018_SAlBounny\", \"data_analysis\")\n",
    "path_to_01_output = os.path.join(path_to_main_output, \"01_output\")\n",
    "path_to_02_output = os.path.join(path_to_main_output, \"02_output\")\n",
    "path_to_03_output = os.path.join(path_to_main_output, \"03_output\")\n",
    "path_to_08_output = os.path.join(path_to_main_output, \"08_output\")\n",
    "path_to_10_output = os.path.join(path_to_main_output, \"10_output\")\n",
    "os.system(\"mkdir -p {}\".format(path_to_10_output))\n",
    "path_to_seurat2anndata = os.path.join(path_to_08_output, \"seurat2anndata\")\n",
    "\n",
    "os.system(\"mkdir -p {}\".format(os.path.join(path_to_10_output, \"violinplot\") ))\n",
    "os.system(\"mkdir -p {}\".format(os.path.join(path_to_10_output, \"umap_acts\") ))\n",
    "adata = sc.read_h5ad(os.path.join(path_to_seurat2anndata, '{}.h5ad'.format(PROJECT)))\n",
    "\n",
    "adata.obs[\"seurat_clusters\"] = [\"cluster{}\".format(item) for item in adata.obs[\"seurat_clusters\"].values]"
   ]
  },
  {
   "cell_type": "code",
   "execution_count": null,
   "id": "a5913ce6-4249-4c28-8d53-91995f232165",
   "metadata": {},
   "outputs": [],
   "source": [
    "sc.pl.umap(adata, color = \"seurat_clusters\")"
   ]
  },
  {
   "cell_type": "code",
   "execution_count": 3,
   "id": "9c885567-0fa5-41df-a38e-2e3e46cf94b2",
   "metadata": {},
   "outputs": [],
   "source": [
    "net = dc.get_collectri(organism='mouse', split_complexes=False)"
   ]
  },
  {
   "cell_type": "code",
   "execution_count": null,
   "id": "2e970150-853a-4758-ac38-6876900c19a9",
   "metadata": {},
   "outputs": [],
   "source": [
    "dc.run_ulm(\n",
    "    mat = adata,\n",
    "    net = net,\n",
    "    source = 'source',\n",
    "    target = 'target',\n",
    "    weight = 'weight',\n",
    "    verbose = True,\n",
    "    use_raw = False)"
   ]
  },
  {
   "cell_type": "code",
   "execution_count": null,
   "id": "45c38b14-5fda-4d69-a823-3136c2610198",
   "metadata": {},
   "outputs": [],
   "source": [
    "adata.obsm['collectri_ulm_estimate'] = adata.obsm['ulm_estimate'].copy()\n",
    "adata.obsm['collectri_ulm_pvals'] = adata.obsm['ulm_pvals'].copy()\n",
    "adata"
   ]
  },
  {
   "cell_type": "code",
   "execution_count": 6,
   "id": "4e647d73-00a2-483a-816a-2ec0f72e4b9d",
   "metadata": {},
   "outputs": [],
   "source": [
    "acts = dc.get_acts(adata, obsm_key='ulm_estimate')\n"
   ]
  },
  {
   "cell_type": "code",
   "execution_count": null,
   "id": "e48c1466-d27a-46e5-963e-26a25baae1b5",
   "metadata": {
    "scrolled": true
   },
   "outputs": [],
   "source": [
    "for input_gene in tqdm(acts.var.index):\n",
    "    with plt.rc_context():  # Use this to set figure params like size and dpi\n",
    "        sc.pl.umap(acts, color=[input_gene, 'seurat_clusters'], cmap='RdBu_r', vcenter=0, show = False, size = 20)\n",
    "        plt.savefig(os.path.join(path_to_10_output, \"umap_acts\", \"UMAP_{}.png\".format(input_gene)), bbox_inches=\"tight\")\n",
    "        sc.pl.violin(acts, keys=[input_gene], groupby='seurat_clusters', rotation=90, show  = False)\n",
    "        plt.savefig(os.path.join(path_to_10_output, \"violinplot\", \"violin_plot_{}.png\".format(input_gene)), bbox_inches=\"tight\")"
   ]
  },
  {
   "cell_type": "code",
   "execution_count": null,
   "id": "90b0845e-d560-4fe6-ad1b-edefefca2b3b",
   "metadata": {},
   "outputs": [],
   "source": [
    "df = dc.rank_sources_groups(acts, groupby='seurat_clusters', reference='rest', method='t-test_overestim_var')"
   ]
  },
  {
   "cell_type": "code",
   "execution_count": null,
   "id": "68e6b8b3-937d-4815-89a1-9c6cb52cb884",
   "metadata": {},
   "outputs": [],
   "source": [
    "n_markers = 10\n",
    "source_markers = df.groupby('group').head(n_markers).groupby('group')['names'].apply(lambda x: list(x)).to_dict()\n",
    "#\n",
    "source_markers_df = pd.DataFrame.from_dict(source_markers, orient = \"index\")\n",
    "\n",
    "source_markers_df"
   ]
  },
  {
   "cell_type": "code",
   "execution_count": null,
   "id": "d19d5c3b-839d-4e68-84a4-029a090675fd",
   "metadata": {},
   "outputs": [],
   "source": [
    "# sc.tl.dendrogram(adata, groupby=\"seurat_clusters\")\n",
    "sc.pl.matrixplot(acts, source_markers, 'seurat_clusters', \n",
    "                 dendrogram=False, \n",
    "                 standard_scale='var', \n",
    "                 colorbar_title='Z-scaled scores', \n",
    "                 cmap='RdBu_r')"
   ]
  },
  {
   "cell_type": "code",
   "execution_count": null,
   "id": "84742a17-4d04-4fef-a552-91372e1029da",
   "metadata": {},
   "outputs": [],
   "source": [
    "# dc.plot_network(\n",
    "#     net=net,\n",
    "#     n_sources=['Pax5', 'Ebf1', 'Rfxap'],\n",
    "#     n_targets=15,\n",
    "#     node_size=100,\n",
    "#     s_cmap='white',\n",
    "#     t_cmap='white',\n",
    "#     c_pos_w='darkgreen',\n",
    "#     c_neg_w='darkred',\n",
    "#     figsize=(5, 5)\n",
    "# )"
   ]
  }
 ],
 "metadata": {
  "kernelspec": {
   "display_name": "Python 3 (ipykernel)",
   "language": "python",
   "name": "python3"
  },
  "language_info": {
   "codemirror_mode": {
    "name": "ipython",
    "version": 3
   },
   "file_extension": ".py",
   "mimetype": "text/x-python",
   "name": "python",
   "nbconvert_exporter": "python",
   "pygments_lexer": "ipython3",
   "version": "3.9.18"
  }
 },
 "nbformat": 4,
 "nbformat_minor": 5
}
