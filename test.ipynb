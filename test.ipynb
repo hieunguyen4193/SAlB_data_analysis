{
 "cells": [
  {
   "cell_type": "code",
   "execution_count": 1,
   "metadata": {},
   "outputs": [],
   "source": [
    "import scanpy as sc\n",
    "import numpy as np\n",
    "import os\n",
    "import anndata2ri\n",
    "import pathlib\n",
    "import scvelo as scv\n",
    "from scipy import io\n",
    "import anndata#\n",
    "import pandas as pd\n",
    "from tqdm import tqdm\n",
    "import argparse\n",
    "import re\n",
    "import sys\n",
    "\n",
    "sc.settings.verbosity = 3\n",
    "# sc.logging.print_versions()\n",
    "\n",
    "import warnings\n",
    "warnings.filterwarnings(\"ignore\")\n",
    "\n",
    "new_mtx = \"/home/hieunguyen/CRC1382/outdir/SAlBounny_full/20241021/data_analysis/08_output/seurat2anndata/counts_SAlBounny_full.filter_contaminated_cells.clusterRes_0.5_subcluster_gene_Izumo1r.mtx\"\n",
    "old_mtx = \"/media/hieunguyen/HD01/outdir/CRC1382/20231018_SAlBounny/data_analysis/seurat2anndata/counts_20231018_SAlBounny_03_output.mtx\"\n",
    "\n",
    "Xnew = io.mmread(new_mtx)\n",
    "Xold = io.mmread(old_mtx)"
   ]
  },
  {
   "cell_type": "code",
   "execution_count": 2,
   "metadata": {},
   "outputs": [],
   "source": [
    "adata_new = anndata.AnnData(X=Xnew.transpose().tocsr())\n",
    "adata_old = anndata.AnnData(X=Xold.transpose().tocsr())"
   ]
  },
  {
   "cell_type": "code",
   "execution_count": 12,
   "metadata": {},
   "outputs": [
    {
     "name": "stdout",
     "output_type": "stream",
     "text": [
      "   0  1  2  3  4  5  6  7  8\n",
      "0  0  1  0  2  1  0  0  0  1\n",
      "1  1  1  2  0  0  1  1  1  1\n",
      "2  0  1  3  0  1  1  0  1  0\n",
      "3  0  0  0  1  0  1  0  0  0\n",
      "4  0  0  0  0  0  0  0  0  0\n",
      "5  0  1  1  1  0  0  0  0  0\n",
      "6  0  0  0  0  0  0  0  0  0\n",
      "7  2  1  2  0  0  1  0  0  0\n",
      "8  0  0  0  0  0  0  0  0  0\n"
     ]
    }
   ],
   "source": [
    "df_slice = pd.DataFrame(Xnew.tocsr()[1:10, 1:10].toarray())\n",
    "print(df_slice)"
   ]
  },
  {
   "cell_type": "code",
   "execution_count": 16,
   "metadata": {},
   "outputs": [
    {
     "data": {
      "text/plain": [
       "AnnData object with n_obs × n_vars = 13602 × 18175"
      ]
     },
     "execution_count": 16,
     "metadata": {},
     "output_type": "execute_result"
    }
   ],
   "source": [
    "adata_new"
   ]
  }
 ],
 "metadata": {
  "kernelspec": {
   "display_name": "hieunguyen",
   "language": "python",
   "name": "python3"
  },
  "language_info": {
   "codemirror_mode": {
    "name": "ipython",
    "version": 3
   },
   "file_extension": ".py",
   "mimetype": "text/x-python",
   "name": "python",
   "nbconvert_exporter": "python",
   "pygments_lexer": "ipython3",
   "version": "3.10.4"
  }
 },
 "nbformat": 4,
 "nbformat_minor": 2
}
