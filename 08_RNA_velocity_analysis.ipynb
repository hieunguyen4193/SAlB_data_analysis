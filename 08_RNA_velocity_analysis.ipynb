{
 "cells": [
  {
   "cell_type": "markdown",
   "metadata": {},
   "source": [
    "# Preparation"
   ]
  },
  {
   "cell_type": "code",
   "execution_count": null,
   "metadata": {},
   "outputs": [],
   "source": [
    "import scanpy as sc\n",
    "import numpy as np\n",
    "import os\n",
    "import anndata2ri\n",
    "import pathlib\n",
    "import scvelo as scv\n",
    "from scipy import io\n",
    "import anndata#\n",
    "import pandas as pd\n",
    "from tqdm import tqdm\n",
    "import argparse\n",
    "import sys\n",
    "import re\n",
    "# Activate the anndata2ri conversion between SingleCellExperiment and AnnData\n",
    "anndata2ri.activate()\n",
    "\n",
    "#Loading the rpy2 extension enables cell magic to be used\n",
    "#This runs R code in jupyter notebook cells\n",
    "%load_ext rpy2.ipython\n",
    "\n",
    "sc.settings.verbosity = 3\n",
    "# sc.logging.print_versions()\n",
    "\n",
    "import warnings\n",
    "warnings.filterwarnings(\"ignore\")\n",
    "\n",
    "outdir = \"/home/hieunguyen/CRC1382/outdir\"\n",
    "PROJECT = \"SAlBounny_full\"\n",
    "path_to_loom_data = os.path.join(outdir, PROJECT, \"velocyto_output\")\n",
    "output_version = \"20241021\"\n",
    "\n",
    "object_name = \"SAlBounny_full.filter_contaminated_cells.clusterRes_0.5_subcluster_gene_Izumo1r\"\n",
    "\n",
    "path_to_main_output = os.path.join(outdir, PROJECT, output_version, \"data_analysis\")\n",
    "path_to_01_output = os.path.join(path_to_main_output, \"01_output\")\n",
    "path_to_02_output = os.path.join(path_to_main_output, \"02_output\")\n",
    "path_to_03_output = os.path.join(path_to_main_output, \"03_output\")\n",
    "path_to_08_output = os.path.join(path_to_main_output, \"08_output\")\n",
    "\n",
    "path_to_seurat2anndata = os.path.join(path_to_08_output, \"seurat2anndata\")\n",
    "\n",
    "#####------------------------------------------------------------#####\n",
    "##### READ LOOM DATA\n",
    "#####------------------------------------------------------------#####\n",
    "all_looms = [item for item in pathlib.Path(path_to_loom_data).glob(\"*.loom\")]\n",
    "\n",
    "velodata_dict = dict()\n",
    "for input_loom in tqdm(all_looms):\n",
    "    velodata = scv.read_loom(input_loom)\n",
    "    if \"200709\" in input_loom.name:\n",
    "        samplename = input_loom.name.replace(\"SAlBounny_200709_\", \"\").replace(\".loom\", \"\")\n",
    "    else:\n",
    "        samplename = input_loom.name.replace(\"SAlBounny_\", \"\").replace(\".loom\", \"\")\n",
    "\n",
    "    new_obs = [\"{}_{}_{}-1\".format(samplename, samplename, item.split(\":\")[1].replace(\"x\", \"\")) for item in velodata.obs.index]\n",
    "    velodata.obs.index = new_obs\n",
    "    velodata.obs[\"barcode\"] = new_obs\n",
    "    velodata.var_names_make_unique()\n",
    "    pattern = re.compile('_[A|T|G|C]*-')\n",
    "    new_obs = [samplename + pattern.search(string = item).group() + item.split(\"-\")[1]\n",
    "              for item in velodata.obs.index]\n",
    "    velodata.obs.index = new_obs\n",
    "    velodata_dict[samplename] = velodata\n",
    "    velodata.var_names_make_unique()\n",
    "\n",
    "all_velodata = velodata_dict[list(velodata_dict.keys())[0]]\n",
    "for data in list(velodata_dict.keys())[1:]:\n",
    "    all_velodata = all_velodata.concatenate(velodata_dict[data])\n",
    "    \n",
    "new_obs = [item.split(\"-\")[0] + \"-1\" for item in all_velodata.obs.index]\n",
    "all_velodata.obs.index = new_obs\n",
    "all_velodata.var_names_make_unique()\n",
    "\n",
    "#####------------------------------------------------------------#####\n",
    "##### READ ANNDATA\n",
    "#####------------------------------------------------------------#####\n",
    "adata = sc.read_h5ad(os.path.join(path_to_seurat2anndata, '{}.h5ad'.format(object_name)))"
   ]
  },
  {
   "cell_type": "markdown",
   "metadata": {},
   "source": [
    "# Main analysis"
   ]
  },
  {
   "cell_type": "markdown",
   "metadata": {},
   "source": [
    "## Pre-processing pipeline, prepare for RNA velocity analysis"
   ]
  },
  {
   "cell_type": "code",
   "execution_count": null,
   "metadata": {},
   "outputs": [],
   "source": [
    "scv.utils.clean_obs_names(adata)\n",
    "scv.utils.clean_obs_names(all_velodata)\n",
    "merge_data = scv.utils.merge(adata, all_velodata)\n",
    "\n",
    "scv.pp.filter_genes(merge_data, min_shared_counts=20)\n",
    "scv.pp.normalize_per_cell(merge_data)\n",
    "scv.pp.filter_genes_dispersion(merge_data, n_top_genes=2000)\n",
    "scv.pp.log1p(merge_data)\n",
    "\n",
    "scv.pp.filter_and_normalize(merge_data, min_shared_counts=20, n_top_genes=2000)\n",
    "scv.pp.moments(merge_data, n_pcs=30, n_neighbors=30)"
   ]
  },
  {
   "cell_type": "markdown",
   "metadata": {},
   "source": [
    "## RNA velocity inference"
   ]
  },
  {
   "cell_type": "code",
   "execution_count": null,
   "metadata": {},
   "outputs": [],
   "source": [
    "# scv.tl.recover_dynamics(merge_data, n_jobs = 15)\n",
    "# scv.tl.velocity(merge_data, mode=\"dynamical\", diff_kinetics = True)\n",
    "scv.tl.velocity(merge_data)\n",
    "scv.tl.velocity_graph(merge_data)"
   ]
  },
  {
   "cell_type": "markdown",
   "metadata": {},
   "source": [
    "## RNA velocity on UMAP"
   ]
  },
  {
   "cell_type": "code",
   "execution_count": null,
   "metadata": {},
   "outputs": [],
   "source": [
    "colordf = pd.read_csv(\"/home/hieunguyen/CRC1382/outdir/SAlBounny_full/20241021/data_analysis/06_output/colordf.csv\", index_col = [0])\n",
    "colordf.set_index(\"V1\", inplace = True)\n",
    "colordf =  colordf.loc[['Anergic', \n",
    "                       'Early activation/Trm', \n",
    "                       'IFN_1', \n",
    "                       'Intermediate', \n",
    "                       'Late activation', \n",
    "                       'Naive/Tcm', \n",
    "                       'Proliferation', \n",
    "                       'Tregs']]\n",
    "\n",
    "colors = colordf[\"color\"].to_list()"
   ]
  },
  {
   "cell_type": "code",
   "execution_count": null,
   "metadata": {},
   "outputs": [],
   "source": [
    "scv.pl.velocity_embedding(merge_data, \n",
    "                          dpi=120, \n",
    "                          arrow_size=2, \n",
    "                          arrow_length=10, \n",
    "                          basis = \"X_umap\",\n",
    "                          color=\"celltype\",\n",
    "                         figsize = (12, 12), \n",
    "                         fontsize=20, \n",
    "                         legend_fontsize=40, \n",
    "                         palette = colors,  \n",
    "                         frameon=True)"
   ]
  },
  {
   "cell_type": "markdown",
   "metadata": {},
   "source": [
    "## Streamlines"
   ]
  },
  {
   "cell_type": "code",
   "execution_count": null,
   "metadata": {},
   "outputs": [],
   "source": [
    "scv.pl.velocity_embedding_stream(merge_data, \n",
    "                                 dpi=120, \n",
    "                                 arrow_size=2, basis = \"X_umap\",\n",
    "                                 color=\"celltype\",\n",
    "                         figsize = (12, 12), \n",
    "                         fontsize=20, \n",
    "                         legend_fontsize = 30, \n",
    "                         frameon=True, \n",
    "                         palette = colors, \n",
    "                         save=\"streamline_{}.svg\".format(object_name))"
   ]
  },
  {
   "cell_type": "markdown",
   "metadata": {},
   "source": [
    "# Interpretation of the RNA velocities"
   ]
  },
  {
   "cell_type": "markdown",
   "metadata": {},
   "source": [
    "## Gene ranking\n",
    "\n"
   ]
  },
  {
   "cell_type": "markdown",
   "metadata": {},
   "source": [
    "We can test which genes have cluster-specific differential velocity expression, being siginificantly higher/lower compared to the remaining population. Run a differential velocity t-test and outpus a gene ranking for each cluster. Thresholds can be set (e.g. min_corr) to restrict the test on a selection of gene candidates."
   ]
  },
  {
   "cell_type": "code",
   "execution_count": null,
   "metadata": {},
   "outputs": [],
   "source": [
    "scv.tl.rank_velocity_genes(merge_data, groupby='seurat_clusters', min_corr=.3)\n",
    "\n",
    "df_gene_ranking = scv.DataFrame(merge_data.uns['rank_velocity_genes']['names'])"
   ]
  },
  {
   "cell_type": "markdown",
   "metadata": {},
   "source": [
    "### Display top-10 genes for each group (by cell clusters)"
   ]
  },
  {
   "cell_type": "code",
   "execution_count": null,
   "metadata": {},
   "outputs": [],
   "source": [
    "display(df_gene_ranking.head(10))"
   ]
  },
  {
   "cell_type": "markdown",
   "metadata": {},
   "source": [
    "## Pseudotime"
   ]
  },
  {
   "cell_type": "markdown",
   "metadata": {},
   "source": [
    "This pseudotime was constructed by a velocity graph"
   ]
  },
  {
   "cell_type": "code",
   "execution_count": null,
   "metadata": {},
   "outputs": [],
   "source": [
    "scv.tl.velocity_pseudotime(merge_data)\n",
    "scv.pl.scatter(merge_data, color='velocity_pseudotime', cmap='gnuplot', basis = \"X_umap\",\n",
    "               figsize = (15, 15), fontsize=20, legend_fontsize = 30, frameon=True)"
   ]
  },
  {
   "cell_type": "markdown",
   "metadata": {},
   "source": [
    "## Speed and coherence"
   ]
  },
  {
   "cell_type": "markdown",
   "metadata": {},
   "source": [
    "Two more useful stats: \n",
    "\n",
    "- The speed or rate of differentiation is given by the length of the velocity vector. \n",
    "\n",
    "- The coherence of the vector field (i.e., how a velocity vector correlates with its neighboring velocities) provides a measure of confidence."
   ]
  },
  {
   "cell_type": "code",
   "execution_count": null,
   "metadata": {},
   "outputs": [],
   "source": [
    "scv.tl.velocity_confidence(merge_data)\n",
    "keys = 'velocity_length', 'velocity_confidence'\n",
    "scv.pl.scatter(merge_data, c=keys, cmap='coolwarm', perc=[5, 95], basis = \"X_umap\", frameon=True, \n",
    "              figsize = (10, 10))"
   ]
  },
  {
   "cell_type": "code",
   "execution_count": null,
   "metadata": {},
   "outputs": [],
   "source": [
    "df = merge_data.obs.groupby('seurat_clusters')[keys].mean().T\n",
    "df.style.background_gradient(cmap='coolwarm', axis=1)"
   ]
  },
  {
   "cell_type": "code",
   "execution_count": null,
   "metadata": {},
   "outputs": [],
   "source": [
    "all_velodata"
   ]
  },
  {
   "cell_type": "code",
   "execution_count": null,
   "metadata": {},
   "outputs": [],
   "source": [
    "adata"
   ]
  },
  {
   "cell_type": "code",
   "execution_count": null,
   "metadata": {},
   "outputs": [],
   "source": [
    "tmpdf = merge_data.var\n",
    "tmpdf[tmpdf[\"Chromosome\"] == \"JH584304.1\"]"
   ]
  }
 ],
 "metadata": {
  "kernelspec": {
   "display_name": "hieunguyen",
   "language": "python",
   "name": "python3"
  },
  "language_info": {
   "codemirror_mode": {
    "name": "ipython",
    "version": 3
   },
   "file_extension": ".py",
   "mimetype": "text/x-python",
   "name": "python",
   "nbconvert_exporter": "python",
   "pygments_lexer": "ipython3",
   "version": "3.10.4"
  }
 },
 "nbformat": 4,
 "nbformat_minor": 2
}
