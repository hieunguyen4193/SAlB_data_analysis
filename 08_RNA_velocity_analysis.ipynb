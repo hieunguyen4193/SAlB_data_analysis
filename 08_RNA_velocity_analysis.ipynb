{
 "cells": [
  {
   "cell_type": "code",
   "execution_count": null,
   "metadata": {},
   "outputs": [
    {
     "name": "stderr",
     "output_type": "stream",
     "text": [
      "  0%|          | 0/7 [00:03<?, ?it/s]\n"
     ]
    },
    {
     "ename": "NameError",
     "evalue": "name 're' is not defined",
     "output_type": "error",
     "traceback": [
      "\u001b[0;31m---------------------------------------------------------------------------\u001b[0m",
      "\u001b[0;31mNameError\u001b[0m                                 Traceback (most recent call last)",
      "Input \u001b[0;32mIn [1]\u001b[0m, in \u001b[0;36m<cell line: 37>\u001b[0;34m()\u001b[0m\n\u001b[1;32m     46\u001b[0m velodata\u001b[38;5;241m.\u001b[39mobs[\u001b[38;5;124m\"\u001b[39m\u001b[38;5;124mbarcode\u001b[39m\u001b[38;5;124m\"\u001b[39m] \u001b[38;5;241m=\u001b[39m new_obs\n\u001b[1;32m     47\u001b[0m velodata\u001b[38;5;241m.\u001b[39mvar_names_make_unique()\n\u001b[0;32m---> 48\u001b[0m pattern \u001b[38;5;241m=\u001b[39m \u001b[43mre\u001b[49m\u001b[38;5;241m.\u001b[39mcompile(\u001b[38;5;124m'\u001b[39m\u001b[38;5;124m_[A|T|G|C]*-\u001b[39m\u001b[38;5;124m'\u001b[39m)\n\u001b[1;32m     49\u001b[0m new_obs \u001b[38;5;241m=\u001b[39m [samplename \u001b[38;5;241m+\u001b[39m pattern\u001b[38;5;241m.\u001b[39msearch(string \u001b[38;5;241m=\u001b[39m item)\u001b[38;5;241m.\u001b[39mgroup() \u001b[38;5;241m+\u001b[39m item\u001b[38;5;241m.\u001b[39msplit(\u001b[38;5;124m\"\u001b[39m\u001b[38;5;124m-\u001b[39m\u001b[38;5;124m\"\u001b[39m)[\u001b[38;5;241m1\u001b[39m]\n\u001b[1;32m     50\u001b[0m           \u001b[38;5;28;01mfor\u001b[39;00m item \u001b[38;5;129;01min\u001b[39;00m velodata\u001b[38;5;241m.\u001b[39mobs\u001b[38;5;241m.\u001b[39mindex]\n\u001b[1;32m     51\u001b[0m velodata\u001b[38;5;241m.\u001b[39mobs\u001b[38;5;241m.\u001b[39mindex \u001b[38;5;241m=\u001b[39m new_obs\n",
      "\u001b[0;31mNameError\u001b[0m: name 're' is not defined"
     ]
    }
   ],
   "source": [
    "import scanpy as sc\n",
    "import numpy as np\n",
    "import os\n",
    "import anndata2ri\n",
    "import pathlib\n",
    "import scvelo as scv\n",
    "from scipy import io\n",
    "import anndata#\n",
    "import pandas as pd\n",
    "from tqdm import tqdm\n",
    "import argparse\n",
    "import sys\n",
    "import re\n",
    "# Activate the anndata2ri conversion between SingleCellExperiment and AnnData\n",
    "anndata2ri.activate()\n",
    "\n",
    "#Loading the rpy2 extension enables cell magic to be used\n",
    "#This runs R code in jupyter notebook cells\n",
    "%load_ext rpy2.ipython\n",
    "\n",
    "sc.settings.verbosity = 3\n",
    "# sc.logging.print_versions()\n",
    "\n",
    "import warnings\n",
    "warnings.filterwarnings(\"ignore\")\n",
    "\n",
    "outdir = \"/home/hieunguyen/CRC1382/outdir\"\n",
    "PROJECT = \"SAlBounny_full\"\n",
    "path_to_loom_data = os.path.join(outdir, PROJECT, \"velocyto_output\")\n",
    "\n",
    "#####------------------------------------------------------------#####\n",
    "##### READ LOOM DATA\n",
    "\n",
    "all_looms = [item for item in pathlib.Path(path_to_loom_data).glob(\"*.loom\")]\n",
    "\n",
    "velodata_dict = dict()\n",
    "for input_loom in tqdm(all_looms):\n",
    "    velodata = scv.read_loom(input_loom)\n",
    "    if \"200709\" in input_loom.name:\n",
    "        samplename = input_loom.name.replace(\"SAlBounny_200709_\", \"\").replace(\".loom\", \"\")\n",
    "    else:\n",
    "        samplename = input_loom.name.replace(\"SAlBounny_\", \"\").replace(\".loom\", \"\")\n",
    "\n",
    "    new_obs = [\"{}_{}_{}-1\".format(samplename, samplename, item.split(\":\")[1].replace(\"x\", \"\")) for item in velodata.obs.index]\n",
    "    velodata.obs.index = new_obs\n",
    "    velodata.obs[\"barcode\"] = new_obs\n",
    "    velodata.var_names_make_unique()\n",
    "    pattern = re.compile('_[A|T|G|C]*-')\n",
    "    new_obs = [samplename + pattern.search(string = item).group() + item.split(\"-\")[1]\n",
    "              for item in velodata.obs.index]\n",
    "    velodata.obs.index = new_obs\n",
    "    velodata_dict[samplename] = velodata\n",
    "    velodata.var_names_make_unique()\n",
    "\n"
   ]
  }
 ],
 "metadata": {
  "kernelspec": {
   "display_name": "hieunguyen",
   "language": "python",
   "name": "python3"
  },
  "language_info": {
   "codemirror_mode": {
    "name": "ipython",
    "version": 3
   },
   "file_extension": ".py",
   "mimetype": "text/x-python",
   "name": "python",
   "nbconvert_exporter": "python",
   "pygments_lexer": "ipython3",
   "version": "3.10.4"
  }
 },
 "nbformat": 4,
 "nbformat_minor": 2
}
